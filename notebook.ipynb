{
 "cells": [
  {
   "cell_type": "code",
   "execution_count": 1,
   "metadata": {
    "editable": true,
    "trusted": true,
    "vscode": {
     "languageId": "python_glue_session"
    }
   },
   "outputs": [
    {
     "name": "stdout",
     "output_type": "stream",
     "text": [
      "Welcome to the Glue Interactive Sessions Kernel\n",
      "For more information on available magic commands, please type %help in any new cell.\n",
      "\n",
      "Please view our Getting Started page to access the most up-to-date information on the Interactive Sessions kernel: https://docs.aws.amazon.com/glue/latest/dg/interactive-sessions.html\n",
      "Installed kernel version: 0.37.0 \n",
      "Authenticating with environment variables and user-defined glue_role_arn: arn:aws:iam::148922931563:role/AdminRole\n",
      "Trying to create a Glue session for the kernel.\n",
      "Worker Type: G.1X\n",
      "Number of Workers: 5\n",
      "Session ID: 3b03815e-2acd-430a-b919-a16e4d4bfcac\n",
      "Job Type: glueetl\n",
      "Applying the following default arguments:\n",
      "--glue_kernel_version 0.37.0\n",
      "--enable-glue-datacatalog true\n",
      "Waiting for session 3b03815e-2acd-430a-b919-a16e4d4bfcac to get into ready status...\n",
      "Session 3b03815e-2acd-430a-b919-a16e4d4bfcac has been created.\n",
      "\n"
     ]
    }
   ],
   "source": [
    "import sys\n",
    "from awsglue.transforms import *\n",
    "from awsglue.utils import getResolvedOptions\n",
    "from pyspark.context import SparkContext\n",
    "from awsglue.context import GlueContext\n",
    "from awsglue.job import Job\n",
    "\n",
    "sc = SparkContext.getOrCreate()\n",
    "glueContext = GlueContext(sc)\n",
    "spark = glueContext.spark_session\n",
    "job = Job(glueContext)"
   ]
  },
  {
   "cell_type": "code",
   "execution_count": 2,
   "metadata": {
    "trusted": true,
    "vscode": {
     "languageId": "python_glue_session"
    }
   },
   "outputs": [
    {
     "name": "stdout",
     "output_type": "stream",
     "text": [
      "\n"
     ]
    }
   ],
   "source": [
    "\n",
    "import sys\n",
    "from awsglue.transforms import *\n",
    "from awsglue.utils import getResolvedOptions\n",
    "from pyspark.context import SparkContext\n",
    "from awsglue.context import GlueContext\n",
    "from awsglue.job import Job\n",
    "import boto3\n",
    "import time\n"
   ]
  },
  {
   "cell_type": "code",
   "execution_count": 3,
   "metadata": {
    "trusted": true,
    "vscode": {
     "languageId": "python_glue_session"
    }
   },
   "outputs": [
    {
     "name": "stdout",
     "output_type": "stream",
     "text": [
      "\n"
     ]
    }
   ],
   "source": [
    "\n",
    "glueContext = GlueContext(SparkContext.getOrCreate())\n",
    "spark = glueContext.spark_session\n"
   ]
  },
  {
   "cell_type": "code",
   "execution_count": null,
   "metadata": {
    "trusted": true,
    "vscode": {
     "languageId": "python_glue_session"
    }
   },
   "outputs": [
    {
     "name": "stdout",
     "output_type": "stream",
     "text": [
      "\n"
     ]
    }
   ],
   "source": [
    "raw_data = glueContext.create_dynamic_frame.from_catalog(database = \"summitdb\", table_name = \"raw2024\")\n",
    "\n",
    "reference_data = glueContext.create_dynamic_frame.from_catalog(database = \"summitdb\", table_name = \"reference_data\")"
   ]
  },
  {
   "cell_type": "code",
   "execution_count": 5,
   "metadata": {
    "trusted": true,
    "vscode": {
     "languageId": "python_glue_session"
    }
   },
   "outputs": [
    {
     "name": "stdout",
     "output_type": "stream",
     "text": [
      "root\n",
      "|-- uuid: string\n",
      "|-- device_ts: string\n",
      "|-- device_id: int\n",
      "|-- device_temp: int\n",
      "|-- track_id: int\n",
      "|-- activity_type: string\n",
      "|-- partition_0: string\n",
      "|-- partition_1: string\n",
      "|-- partition_2: string\n"
     ]
    }
   ],
   "source": [
    "raw_data.printSchema()"
   ]
  },
  {
   "cell_type": "code",
   "execution_count": 6,
   "metadata": {
    "trusted": true,
    "vscode": {
     "languageId": "python_glue_session"
    }
   },
   "outputs": [
    {
     "name": "stdout",
     "output_type": "stream",
     "text": [
      "root\n",
      "|-- track_id: string\n",
      "|-- track_name: string\n",
      "|-- artist_name: string\n"
     ]
    }
   ],
   "source": [
    "reference_data.printSchema()"
   ]
  },
  {
   "cell_type": "code",
   "execution_count": 7,
   "metadata": {
    "trusted": true,
    "vscode": {
     "languageId": "python_glue_session"
    }
   },
   "outputs": [
    {
     "name": "stdout",
     "output_type": "stream",
     "text": [
      "raw_data (Count) = 105000\n",
      "reference_data (Count) = 100\n"
     ]
    }
   ],
   "source": [
    "print('raw_data (Count) = ' + str(raw_data.count()))\n",
    "print('reference_data (Count) = ' + str(reference_data.count()))"
   ]
  },
  {
   "cell_type": "code",
   "execution_count": 8,
   "metadata": {
    "trusted": true,
    "vscode": {
     "languageId": "python_glue_session"
    }
   },
   "outputs": [
    {
     "name": "stdout",
     "output_type": "stream",
     "text": [
      "+--------------------+--------------------+---------+-----------+--------+-------------+-----------+-----------+-----------+\n",
      "|                uuid|           device_ts|device_id|device_temp|track_id|activity_type|partition_0|partition_1|partition_2|\n",
      "+--------------------+--------------------+---------+-----------+--------+-------------+-----------+-----------+-----------+\n",
      "|084404a8-0438-457...|2023-01-22 12:35:...|       25|         34|      25|    Traveling|         01|         22|         12|\n",
      "|c3bb0a21-41bc-4e4...|2023-01-22 12:35:...|       22|         32|      23|    Traveling|         01|         22|         12|\n",
      "|e5ca0c66-3394-4e8...|2023-01-22 12:35:...|       29|         32|      29|    Traveling|         01|         22|         12|\n",
      "|f4eb814b-2906-4d7...|2023-01-22 12:35:...|       35|         32|      27|    Traveling|         01|         22|         12|\n",
      "|157c32d8-0599-421...|2023-01-22 12:35:...|       25|         32|      27|    Traveling|         01|         22|         12|\n",
      "+--------------------+--------------------+---------+-----------+--------+-------------+-----------+-----------+-----------+\n",
      "only showing top 5 rows\n"
     ]
    }
   ],
   "source": [
    "raw_data.toDF().show(5)"
   ]
  },
  {
   "cell_type": "code",
   "execution_count": 9,
   "metadata": {
    "trusted": true,
    "vscode": {
     "languageId": "python_glue_session"
    }
   },
   "outputs": [
    {
     "name": "stdout",
     "output_type": "stream",
     "text": [
      "+--------+-----------+--------------------+\n",
      "|track_id| track_name|         artist_name|\n",
      "+--------+-----------+--------------------+\n",
      "|       1| God's Plan|               Drake|\n",
      "|       2|Meant To Be|Bebe Rexha & Flor...|\n",
      "|       3|    Perfect|          Ed Sheeran|\n",
      "|       4|    Finesse|Bruno Mars & Cardi B|\n",
      "|       5|     Psycho|Post Malone Featu...|\n",
      "+--------+-----------+--------------------+\n",
      "only showing top 5 rows\n"
     ]
    }
   ],
   "source": [
    "reference_data.toDF().show(5)"
   ]
  },
  {
   "cell_type": "code",
   "execution_count": 10,
   "metadata": {
    "trusted": true,
    "vscode": {
     "languageId": "python_glue_session"
    }
   },
   "outputs": [
    {
     "name": "stdout",
     "output_type": "stream",
     "text": [
      "Running (count) : 10546\n",
      "+--------------------+--------------------+---------+-----------+--------+-------------+-----------+-----------+-----------+\n",
      "|                uuid|           device_ts|device_id|device_temp|track_id|activity_type|partition_0|partition_1|partition_2|\n",
      "+--------------------+--------------------+---------+-----------+--------+-------------+-----------+-----------+-----------+\n",
      "|710cd618-79b9-43b...|2023-01-22 12:35:...|       49|         32|      11|      Running|         01|         22|         12|\n",
      "|66a9ea56-a161-4b1...|2023-01-22 12:35:...|       33|         28|      26|      Running|         01|         22|         12|\n",
      "|4480d3d0-1ec5-48d...|2023-01-22 12:35:...|       34|         34|      22|      Running|         01|         22|         12|\n",
      "|cc6ef83a-ef67-4aa...|2023-01-22 12:35:...|       45|         32|      19|      Running|         01|         22|         12|\n",
      "|f31193cd-21d9-47a...|2023-01-22 12:35:...|       12|         32|      16|      Running|         01|         22|         12|\n",
      "+--------------------+--------------------+---------+-----------+--------+-------------+-----------+-----------+-----------+\n",
      "only showing top 5 rows\n"
     ]
    }
   ],
   "source": [
    "# Adding raw_data as a temporary table in sql context for spark\n",
    "\n",
    "raw_data.toDF().createOrReplaceTempView(\"temp_raw_data\")\n",
    "\n",
    "# Running the SQL statement which \n",
    "runningDF = spark.sql(\"select * from temp_raw_data where activity_type = 'Running'\")\n",
    "print(\"Running (count) : \" + str(runningDF.count()))\n",
    "\n",
    "runningDF.show(5)\n"
   ]
  },
  {
   "cell_type": "code",
   "execution_count": 11,
   "metadata": {
    "trusted": true,
    "vscode": {
     "languageId": "python_glue_session"
    }
   },
   "outputs": [
    {
     "name": "stdout",
     "output_type": "stream",
     "text": [
      "Working (count) : 21051\n",
      "+--------------------+--------------------+---------+-----------+--------+-------------+-----------+-----------+-----------+\n",
      "|                uuid|           device_ts|device_id|device_temp|track_id|activity_type|partition_0|partition_1|partition_2|\n",
      "+--------------------+--------------------+---------+-----------+--------+-------------+-----------+-----------+-----------+\n",
      "|4ba13649-70b2-433...|2023-01-22 12:35:...|       41|         32|      11|      Working|         01|         22|         12|\n",
      "|7a670cc5-c6e0-420...|2023-01-22 12:35:...|       27|         32|      25|      Working|         01|         22|         12|\n",
      "|2b936660-640a-462...|2023-01-22 12:35:...|       29|         40|      25|      Working|         01|         22|         12|\n",
      "|5883205c-e984-4ac...|2023-01-22 12:35:...|       37|         40|      30|      Working|         01|         22|         12|\n",
      "|7abb64f1-7d28-440...|2023-01-22 12:35:...|       14|         40|      10|      Working|         01|         22|         12|\n",
      "+--------------------+--------------------+---------+-----------+--------+-------------+-----------+-----------+-----------+\n",
      "only showing top 5 rows\n"
     ]
    }
   ],
   "source": [
    "# Running the SQL statement which \n",
    "workingDF = spark.sql(\"select * from temp_raw_data where activity_type = 'Working'\")\n",
    "print(\"Working (count) : \" + str(workingDF.count()))\n",
    "\n",
    "workingDF.show(5)\n"
   ]
  },
  {
   "cell_type": "code",
   "execution_count": 12,
   "metadata": {
    "trusted": true,
    "vscode": {
     "languageId": "python_glue_session"
    }
   },
   "outputs": [
    {
     "name": "stdout",
     "output_type": "stream",
     "text": [
      "Running (count) : 10546\n"
     ]
    }
   ],
   "source": [
    "\n",
    "def filter_function(dynamicRecord):\n",
    "\tif dynamicRecord['activity_type'] == 'Running':\n",
    "\t\treturn True\n",
    "\telse:\n",
    "\t\treturn False\n",
    "runningDF = Filter.apply(frame = raw_data, f = filter_function)\n",
    "\n",
    "print(\"Running (count) : \" + str(runningDF.count()))"
   ]
  },
  {
   "cell_type": "code",
   "execution_count": 13,
   "metadata": {
    "trusted": true,
    "vscode": {
     "languageId": "python_glue_session"
    }
   },
   "outputs": [
    {
     "name": "stdout",
     "output_type": "stream",
     "text": [
      "Working (count) : 21051\n"
     ]
    }
   ],
   "source": [
    "\n",
    "workingDF = Filter.apply(frame = raw_data, f = lambda x:x['activity_type']=='Working')\n",
    "\n",
    "print(\"Working (count) : \" + str(workingDF.count()))"
   ]
  },
  {
   "cell_type": "code",
   "execution_count": 14,
   "metadata": {
    "trusted": true,
    "vscode": {
     "languageId": "python_glue_session"
    }
   },
   "outputs": [
    {
     "name": "stdout",
     "output_type": "stream",
     "text": [
      "\n"
     ]
    }
   ],
   "source": [
    "\n",
    "joined_data = Join.apply(raw_data,reference_data, 'track_id', 'track_id')\n"
   ]
  },
  {
   "cell_type": "code",
   "execution_count": 15,
   "metadata": {
    "trusted": true,
    "vscode": {
     "languageId": "python_glue_session"
    }
   },
   "outputs": [
    {
     "name": "stdout",
     "output_type": "stream",
     "text": [
      "root\n",
      "|-- track_id: string\n",
      "|-- partition_2: string\n",
      "|-- activity_type: string\n",
      "|-- .track_id: int\n",
      "|-- partition_1: string\n",
      "|-- device_temp: int\n",
      "|-- track_name: string\n",
      "|-- artist_name: string\n",
      "|-- device_ts: string\n",
      "|-- device_id: int\n",
      "|-- partition_0: string\n",
      "|-- uuid: string\n"
     ]
    }
   ],
   "source": [
    "joined_data.printSchema()"
   ]
  },
  {
   "cell_type": "code",
   "execution_count": 16,
   "metadata": {
    "trusted": true,
    "vscode": {
     "languageId": "python_glue_session"
    }
   },
   "outputs": [
    {
     "name": "stdout",
     "output_type": "stream",
     "text": [
      "\n"
     ]
    }
   ],
   "source": [
    "\n",
    "joined_data_clean = DropFields.apply(frame = joined_data, paths = ['partition_0','partition_1','partition_2','partition_3'])\n",
    "\n"
   ]
  },
  {
   "cell_type": "code",
   "execution_count": 17,
   "metadata": {
    "trusted": true,
    "vscode": {
     "languageId": "python_glue_session"
    }
   },
   "outputs": [
    {
     "name": "stdout",
     "output_type": "stream",
     "text": [
      "root\n",
      "|-- track_id: string\n",
      "|-- activity_type: string\n",
      "|-- .track_id: int\n",
      "|-- device_temp: int\n",
      "|-- track_name: string\n",
      "|-- artist_name: string\n",
      "|-- device_ts: string\n",
      "|-- device_id: int\n",
      "|-- uuid: string\n"
     ]
    }
   ],
   "source": [
    "joined_data_clean.printSchema()"
   ]
  },
  {
   "cell_type": "code",
   "execution_count": 18,
   "metadata": {
    "trusted": true,
    "vscode": {
     "languageId": "python_glue_session"
    }
   },
   "outputs": [
    {
     "name": "stdout",
     "output_type": "stream",
     "text": [
      "+--------+-------------+---------+-----------+----------+---------------+--------------------+---------+--------------------+\n",
      "|track_id|activity_type|.track_id|device_temp|track_name|    artist_name|           device_ts|device_id|                uuid|\n",
      "+--------+-------------+---------+-----------+----------+---------------+--------------------+---------+--------------------+\n",
      "|      22|    Traveling|       22|         32|   Thunder|Imagine Dragons|2023-01-22 12:35:...|       16|5f56514e-97ce-472...|\n",
      "|      22|    Traveling|       22|         32|   Thunder|Imagine Dragons|2023-01-22 12:35:...|       11|4445f190-ec53-436...|\n",
      "|      22|    Traveling|       22|         28|   Thunder|Imagine Dragons|2023-01-22 12:35:...|       29|a8ac8c21-2ec4-446...|\n",
      "|      22|    Traveling|       22|         28|   Thunder|Imagine Dragons|2023-01-22 12:35:...|       39|fbccab71-0d09-4db...|\n",
      "|      22|    Traveling|       22|         34|   Thunder|Imagine Dragons|2023-01-22 12:35:...|       34|f24d5e7d-c4d7-484...|\n",
      "+--------+-------------+---------+-----------+----------+---------------+--------------------+---------+--------------------+\n",
      "only showing top 5 rows\n"
     ]
    }
   ],
   "source": [
    "joined_data_clean.toDF().show(5)"
   ]
  },
  {
   "cell_type": "code",
   "execution_count": null,
   "metadata": {
    "trusted": true,
    "vscode": {
     "languageId": "python_glue_session"
    }
   },
   "outputs": [
    {
     "name": "stdout",
     "output_type": "stream",
     "text": [
      "Transformed data written to S3\n"
     ]
    }
   ],
   "source": [
    "try:\n",
    "    datasink = glueContext.write_dynamic_frame.from_options(\n",
    "        frame = joined_data_clean, connection_type = \"s3\",\n",
    "        connection_options = {\"path\": \"s3://asg-datalake-demo-2024/data/processed-data/\"},\n",
    "        format = \"parquet\")\n",
    "    print('Transformed data written to S3')\n",
    "except Exception as ex:\n",
    "    print('Something went wrong')\n",
    "    print(ex)"
   ]
  },
  {
   "cell_type": "code",
   "execution_count": null,
   "metadata": {
    "trusted": true,
    "vscode": {
     "languageId": "python_glue_session"
    }
   },
   "outputs": [
    {
     "name": "stdout",
     "output_type": "stream",
     "text": [
      "---\n",
      "Crawler : Stopped\n",
      "---\n"
     ]
    }
   ],
   "source": [
    "\n",
    "glueclient = boto3.client('glue',region_name='ap-southeast-1')\n",
    "\n",
    "response = glueclient.start_crawler(Name='summitcrawler')\n",
    "\n",
    "print('---')\n",
    "\n",
    "crawler_state = ''\n",
    "while (crawler_state != 'STOPPING'):\n",
    "    response = glueclient.get_crawler(Name='summitcrawler')\n",
    "    crawler_state = str(response['Crawler']['State'])\n",
    "    time.sleep(1)\n",
    "\n",
    "print('Crawler : Stopped')\n",
    "print('---')\n",
    "time.sleep(3)\n"
   ]
  },
  {
   "cell_type": "code",
   "execution_count": 22,
   "metadata": {
    "trusted": true,
    "vscode": {
     "languageId": "python_glue_session"
    }
   },
   "outputs": [
    {
     "name": "stdout",
     "output_type": "stream",
     "text": [
      "** Summitdb has following tables**\n",
      "raw2023\n",
      "reference_data\n"
     ]
    }
   ],
   "source": [
    "\n",
    "print('** Summitdb has following tables**')\n",
    "response = glueclient.get_tables(\n",
    "    DatabaseName='summitdb',\n",
    ")\n",
    "\n",
    "for table in response['TableList']:\n",
    "    print(table['Name'])\n",
    "\n"
   ]
  },
  {
   "cell_type": "code",
   "execution_count": null,
   "metadata": {
    "vscode": {
     "languageId": "python_glue_session"
    }
   },
   "outputs": [],
   "source": []
  }
 ],
 "metadata": {
  "kernelspec": {
   "display_name": "Glue PySpark",
   "language": "python",
   "name": "glue_pyspark"
  },
  "language_info": {
   "codemirror_mode": {
    "name": "python",
    "version": 3
   },
   "file_extension": ".py",
   "mimetype": "text/x-python",
   "name": "Python_Glue_Session",
   "pygments_lexer": "python3"
  }
 },
 "nbformat": 4,
 "nbformat_minor": 4
}
